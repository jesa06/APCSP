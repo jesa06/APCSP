
{
 "cells": [
  {
   "attachments": {},
   "cell_type": "markdown",
   "metadata": {},
   "source": [
    "# Guide to User Class\n",
    "> Big Idea 2\n",
    "- toc: true\n",
    "- badges: false\n",
    "- comments: true\n",
    "- author: Joselyn, Ederick, Samit, Akshat and Martin\n",
    "- categories: [student]\n",
    "- type: ap\n",
    "- week: 31"
   ]
  },
  {
   "attachments": {},
   "cell_type": "markdown",
   "metadata": {},
   "source": [
    "## Big Idea 2\n",
    "\n",
    "The main focus of our lesson is to guide people in creating somehting similar to a user class.\n",
    "\n",
    "### Subtopics\n",
    "\n",
    "- Connecting to the SQLite Database\n",
    "- Connecting to API's\n",
    "- CRUD Functions\n",
    "- Main uses for object classes\n",
  
    "\n",
    "### Lesson Plans\n",
    " \n",
    "- We will have a jupyter notebook for the class to make a copy of\n",
    "-code segments in the notebook for people to alter as we go along the lesson\n",
    "- We will have questions/practice problems for people to answer out loud\n",
    "- might give out rewards\n",
    "- Might implement hands on activities\n",
    "- We will have code segments for them to base their notes on\n",
    "\n",
    "### Plans for homework/hacks\n",
    "\n",
    "- Add notes throughout the blog lesson\n",
    "- Answer questions throughout the blog lesson\n",
    "- Create an object class \n",
       "- Connect to an SQLite Database\n",
       "- Implement CRUD functions\n",
    "### Grading\n",
    "\n",
    "- Each member of the group will get the same amount of students to grade.\n",
    "\n",
    "- 0.5 for thorough notes/questions in the blog lesson
     "\n",
    "- 0.4 for creating an object class and connecting to database
     "\n",
    "- 0.1 for extra hack "
       "\n",

   ]
  }
 ],
 "metadata": {
  "language_info": {
   "name": "python"
  },
  "orig_nbformat": 4
 },
 "nbformat": 4,
 "nbformat_minor": 2
}


